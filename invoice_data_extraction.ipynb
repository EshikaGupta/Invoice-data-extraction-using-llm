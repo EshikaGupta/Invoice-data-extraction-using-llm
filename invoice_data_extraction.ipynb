{
 "cells": [
  {
   "cell_type": "code",
   "execution_count": 3,
   "metadata": {
    "colab": {
     "base_uri": "https://localhost:8080/"
    },
    "id": "2o8mVoOyxj0M",
    "outputId": "39c2e928-a171-4dab-842f-a6e40f639e10"
   },
   "outputs": [
    {
     "name": "stdout",
     "output_type": "stream",
     "text": [
      "Requirement already satisfied: ipykernel in c:\\users\\eshika\\anaconda3\\lib\\site-packages (6.28.0)\n",
      "Requirement already satisfied: comm>=0.1.1 in c:\\users\\eshika\\anaconda3\\lib\\site-packages (from ipykernel) (0.2.1)\n",
      "Requirement already satisfied: debugpy>=1.6.5 in c:\\users\\eshika\\anaconda3\\lib\\site-packages (from ipykernel) (1.6.7)\n",
      "Requirement already satisfied: ipython>=7.23.1 in c:\\users\\eshika\\anaconda3\\lib\\site-packages (from ipykernel) (8.27.0)\n",
      "Requirement already satisfied: jupyter-client>=6.1.12 in c:\\users\\eshika\\anaconda3\\lib\\site-packages (from ipykernel) (8.6.0)\n",
      "Requirement already satisfied: jupyter-core!=5.0.*,>=4.12 in c:\\users\\eshika\\anaconda3\\lib\\site-packages (from ipykernel) (5.7.2)\n",
      "Requirement already satisfied: matplotlib-inline>=0.1 in c:\\users\\eshika\\anaconda3\\lib\\site-packages (from ipykernel) (0.1.6)\n",
      "Requirement already satisfied: nest-asyncio in c:\\users\\eshika\\anaconda3\\lib\\site-packages (from ipykernel) (1.6.0)\n",
      "Requirement already satisfied: packaging in c:\\users\\eshika\\anaconda3\\lib\\site-packages (from ipykernel) (24.1)\n",
      "Requirement already satisfied: psutil in c:\\users\\eshika\\anaconda3\\lib\\site-packages (from ipykernel) (5.9.0)\n",
      "Requirement already satisfied: pyzmq>=24 in c:\\users\\eshika\\anaconda3\\lib\\site-packages (from ipykernel) (25.1.2)\n",
      "Requirement already satisfied: tornado>=6.1 in c:\\users\\eshika\\anaconda3\\lib\\site-packages (from ipykernel) (6.4.1)\n",
      "Requirement already satisfied: traitlets>=5.4.0 in c:\\users\\eshika\\anaconda3\\lib\\site-packages (from ipykernel) (5.14.3)\n",
      "Requirement already satisfied: decorator in c:\\users\\eshika\\anaconda3\\lib\\site-packages (from ipython>=7.23.1->ipykernel) (5.1.1)\n",
      "Requirement already satisfied: jedi>=0.16 in c:\\users\\eshika\\anaconda3\\lib\\site-packages (from ipython>=7.23.1->ipykernel) (0.19.1)\n",
      "Requirement already satisfied: prompt-toolkit<3.1.0,>=3.0.41 in c:\\users\\eshika\\anaconda3\\lib\\site-packages (from ipython>=7.23.1->ipykernel) (3.0.43)\n",
      "Requirement already satisfied: pygments>=2.4.0 in c:\\users\\eshika\\anaconda3\\lib\\site-packages (from ipython>=7.23.1->ipykernel) (2.15.1)\n",
      "Requirement already satisfied: stack-data in c:\\users\\eshika\\anaconda3\\lib\\site-packages (from ipython>=7.23.1->ipykernel) (0.2.0)\n",
      "Requirement already satisfied: typing-extensions>=4.6 in c:\\users\\eshika\\anaconda3\\lib\\site-packages (from ipython>=7.23.1->ipykernel) (4.11.0)\n",
      "Requirement already satisfied: colorama in c:\\users\\eshika\\anaconda3\\lib\\site-packages (from ipython>=7.23.1->ipykernel) (0.4.3)\n",
      "Requirement already satisfied: python-dateutil>=2.8.2 in c:\\users\\eshika\\anaconda3\\lib\\site-packages (from jupyter-client>=6.1.12->ipykernel) (2.9.0.post0)\n",
      "Requirement already satisfied: platformdirs>=2.5 in c:\\users\\eshika\\anaconda3\\lib\\site-packages (from jupyter-core!=5.0.*,>=4.12->ipykernel) (3.10.0)\n",
      "Requirement already satisfied: pywin32>=300 in c:\\users\\eshika\\anaconda3\\lib\\site-packages (from jupyter-core!=5.0.*,>=4.12->ipykernel) (305.1)\n",
      "Requirement already satisfied: parso<0.9.0,>=0.8.3 in c:\\users\\eshika\\anaconda3\\lib\\site-packages (from jedi>=0.16->ipython>=7.23.1->ipykernel) (0.8.3)\n",
      "Requirement already satisfied: wcwidth in c:\\users\\eshika\\anaconda3\\lib\\site-packages (from prompt-toolkit<3.1.0,>=3.0.41->ipython>=7.23.1->ipykernel) (0.2.5)\n",
      "Requirement already satisfied: six>=1.5 in c:\\users\\eshika\\anaconda3\\lib\\site-packages (from python-dateutil>=2.8.2->jupyter-client>=6.1.12->ipykernel) (1.14.0)\n",
      "Requirement already satisfied: executing in c:\\users\\eshika\\anaconda3\\lib\\site-packages (from stack-data->ipython>=7.23.1->ipykernel) (0.8.3)\n",
      "Requirement already satisfied: asttokens in c:\\users\\eshika\\anaconda3\\lib\\site-packages (from stack-data->ipython>=7.23.1->ipykernel) (2.0.5)\n",
      "Requirement already satisfied: pure-eval in c:\\users\\eshika\\anaconda3\\lib\\site-packages (from stack-data->ipython>=7.23.1->ipykernel) (0.2.2)\n",
      "Installed kernelspec env in C:\\Users\\ESHIKA\\AppData\\Roaming\\jupyter\\kernels\\env\n"
     ]
    },
    {
     "name": "stderr",
     "output_type": "stream",
     "text": [
      "0.01s - Debugger warning: It seems that frozen modules are being used, which may\n",
      "0.00s - make the debugger miss breakpoints. Please pass -Xfrozen_modules=off\n",
      "0.00s - to python to disable frozen modules.\n",
      "0.00s - Note: Debugging will proceed. Set PYDEVD_DISABLE_FILE_VALIDATION=1 to disable this validation.\n"
     ]
    }
   ],
   "source": [
    "!pip install ipykernel\n",
    "!python -m ipykernel install --user --name=env --display-name \"Python (env)\""
   ]
  },
  {
   "cell_type": "code",
   "execution_count": 4,
   "metadata": {
    "id": "1s3pwkgKpeN7"
   },
   "outputs": [],
   "source": [
    "!pip install Pillow pytesseract -qU langchain-groq langchain langchain_groq pdfplumber"
   ]
  },
  {
   "cell_type": "code",
   "execution_count": 5,
   "metadata": {
    "id": "VSAq4h2awx47"
   },
   "outputs": [],
   "source": [
    "from PIL import Image\n",
    "import pytesseract\n",
    "from pdf2image import convert_from_path\n",
    "import re\n",
    "import getpass\n",
    "import os\n",
    "from langchain_groq import ChatGroq\n",
    "import pdfplumber\n",
    "from langchain_core.messages import HumanMessage, SystemMessage\n",
    "from langchain_core.output_parsers import StrOutputParser"
   ]
  },
  {
   "cell_type": "code",
   "execution_count": 8,
   "metadata": {
    "id": "Q50_EJcEJE73"
   },
   "outputs": [],
   "source": [
    "os.environ[\"LANGCHAIN_TRACING_V2\"] = \"true\"\n",
    "os.environ[\"LANGCHAIN_API_KEY\"] = \"\"\n",
    "os.environ[\"GROQ_API_KEY\"] = \"\"\n",
    "model = ChatGroq(model=\"llama3-70b-8192\")"
   ]
  },
  {
   "cell_type": "code",
   "execution_count": 10,
   "metadata": {
    "id": "4vYZajSPGRcn"
   },
   "outputs": [],
   "source": [
    "def extract_text_from_pdf(pdf_path): #for pdf\n",
    "    with pdfplumber.open(pdf_path) as pdf:\n",
    "        all_text = ''\n",
    "        for page in pdf.pages:\n",
    "            all_text += page.extract_text() + '\\n'\n",
    "    return all_text\n"
   ]
  },
  {
   "cell_type": "code",
   "execution_count": 12,
   "metadata": {
    "id": "6GSTo3cswmx2"
   },
   "outputs": [],
   "source": [
    "def extract_text_from_image(image_path): #for images\n",
    "    image = Image.open(image_path)\n",
    "    text = pytesseract.image_to_string(image)\n",
    "    return text\n"
   ]
  },
  {
   "cell_type": "code",
   "execution_count": 31,
   "metadata": {
    "id": "Fc6YMZuELBbc"
   },
   "outputs": [],
   "source": [
    "def prompting(text): #prompting llama\n",
    "  messages = [\n",
    "      SystemMessage(content='''Extract all following values: Invoice no, Product,\n",
    "      Quantity, Date, Unit rate, Amount Payable, Customer Details\n",
    "      Customer Email, Customer phone number and Customer billing address from the data.\n",
    "\n",
    "      Expected output : remove any dollar symbols {{'Invoice no':'1001329',\n",
    "      'Product':'Office Chair', 'Quantity':'2', 'Date':'05/01/2022',\n",
    "      'Unit rate':'1100.00', 'Amount Payable':'2300.00','Customer Details':'Test',\n",
    "      'Customer Email':'santoshverma0988@gmail.com', 'Customer Phone number':'9999999999',\n",
    "      'Customer billing Address':'Mumbai, India'}}\n",
    "      Don't give any unnecessary comments.'''),\n",
    "      HumanMessage(content=text),\n",
    "  ]\n",
    "  parser = StrOutputParser()\n",
    "  result = model.invoke(messages)\n",
    "  return parser.invoke(result)\n"
   ]
  },
  {
   "cell_type": "code",
   "execution_count": 16,
   "metadata": {
    "id": "YfuMHp99isee"
   },
   "outputs": [],
   "source": [
    "def extraction(d,res): #using regex to extract values from generated string\n",
    "  for k in d:\n",
    "    st=\"'':\\s*'([^']*)'\"\n",
    "    st1=st[:1]+k+st[1:]\n",
    "    match = re.search(st1, res)\n",
    "    if match:\n",
    "      x = match.group(1)\n",
    "      d[k]=x\n",
    "    else:\n",
    "      d[k]=None"
   ]
  },
  {
   "cell_type": "code",
   "execution_count": 47,
   "metadata": {
    "id": "tmoScQPrtMwS"
   },
   "outputs": [],
   "source": [
    "import pandas as pd\n",
    "def invoice_info(pdf_path):\n",
    "  if pdf_path.endswith('.pdf'):\n",
    "    invoice_text = extract_text_from_pdf(pdf_path)\n",
    "  elif pdf_path.endswith('.jpg') or pdf_path.endswith('.jpeg') or pdf_path.endswith('.png'):\n",
    "    invoice_text = extract_text_from_image(pdf_path)\n",
    "  result=prompting(invoice_text)\n",
    "  keyList = ['Invoice no', 'Product','Quantity','Date','Unit rate','Amount Payable','Customer Details','Customer Email','Customer Phone number','Customer billing Address']\n",
    "  details = {}\n",
    "  for i in keyList: details[i] = None\n",
    "  extraction(details,result)\n",
    "  return details"
   ]
  },
  {
   "cell_type": "code",
   "execution_count": 49,
   "metadata": {
    "colab": {
     "base_uri": "https://localhost:8080/"
    },
    "id": "Jog28zIpvrji",
    "outputId": "c53a8bee-91c7-4380-ef15-c1bbd579f984"
   },
   "outputs": [
    {
     "data": {
      "text/plain": [
       "{'Invoice no': 'inv41',\n",
       " 'Product': 'WASTE AND SCRAP OF STAINLESS STEEL',\n",
       " 'Quantity': '6,790 KGS',\n",
       " 'Date': '18 Jul 2024',\n",
       " 'Unit rate': '95.00',\n",
       " 'Amount Payable': '768771.00',\n",
       " 'Customer Details': 'TEST',\n",
       " 'Customer Email': 'test@gmail.com',\n",
       " 'Customer Phone number': '9108239284',\n",
       " 'Customer billing Address': 'Hyderabad, TELANGANA, 500089'}"
      ]
     },
     "execution_count": 49,
     "metadata": {},
     "output_type": "execute_result"
    }
   ],
   "source": [
    "invoice_info('samp_inv.pdf')"
   ]
  },
  {
   "cell_type": "code",
   "execution_count": 53,
   "metadata": {
    "colab": {
     "base_uri": "https://localhost:8080/"
    },
    "id": "ZvhyCLXpwDp8",
    "outputId": "03b906a2-c483-401e-994e-1c837e200aca"
   },
   "outputs": [
    {
     "data": {
      "text/plain": [
       "{'Invoice no': 'inv41',\n",
       " 'Product': 'WASTE AND SCRAP OF STAINLESS STEEL',\n",
       " 'Quantity': '6790.000 KGS',\n",
       " 'Date': '18 Jul 2024',\n",
       " 'Unit rate': '95.00',\n",
       " 'Amount Payable': '7,68,771.00',\n",
       " 'Customer Details': 'Test',\n",
       " 'Customer Email': 'test@gmail.com',\n",
       " 'Customer Phone number': '9108239284',\n",
       " 'Customer billing Address': '36-TELANGANA, Hyderabad, TELANGANA, 500089'}"
      ]
     },
     "execution_count": 53,
     "metadata": {},
     "output_type": "execute_result"
    }
   ],
   "source": [
    "invoice_info('Sample_Invoice.pdf')"
   ]
  },
  {
   "cell_type": "code",
   "execution_count": 55,
   "metadata": {
    "colab": {
     "base_uri": "https://localhost:8080/"
    },
    "id": "nnvINOyTzg9b",
    "outputId": "921dae49-d8df-4dde-927f-3fef081ed1d8"
   },
   "outputs": [
    {
     "data": {
      "text/plain": [
       "{'Invoice no': 'inva',\n",
       " 'Product': 'WASTE AND SCRAP OF STAINLESS STEEL',\n",
       " 'Quantity': '6790 KGS',\n",
       " 'Date': '18. Jul 2024',\n",
       " 'Unit rate': '95.00',\n",
       " 'Amount Payable': '768771.00',\n",
       " 'Customer Details': 'TEST',\n",
       " 'Customer Email': 'test@gmail.com',\n",
       " 'Customer Phone number': '9108239284',\n",
       " 'Customer billing Address': 'Hyderabad, TELANGANA, 500089'}"
      ]
     },
     "execution_count": 55,
     "metadata": {},
     "output_type": "execute_result"
    }
   ],
   "source": [
    "invoice_info('Sample_Invoice_image.png')"
   ]
  },
  {
   "cell_type": "code",
   "execution_count": null,
   "metadata": {},
   "outputs": [],
   "source": []
  }
 ],
 "metadata": {
  "colab": {
   "provenance": []
  },
  "kernelspec": {
   "display_name": "Python (env)",
   "language": "python",
   "name": "env"
  },
  "language_info": {
   "codemirror_mode": {
    "name": "ipython",
    "version": 3
   },
   "file_extension": ".py",
   "mimetype": "text/x-python",
   "name": "python",
   "nbconvert_exporter": "python",
   "pygments_lexer": "ipython3",
   "version": "3.11.7"
  }
 },
 "nbformat": 4,
 "nbformat_minor": 4
}
